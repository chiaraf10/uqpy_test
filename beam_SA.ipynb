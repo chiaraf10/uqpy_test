{
 "cells": [
  {
   "cell_type": "code",
   "execution_count": 1,
   "metadata": {},
   "outputs": [],
   "source": [
    "# General imports\n",
    "import numpy as np\n",
    "import os\n",
    "from UQpy.run_model.RunModel import RunModel\n",
    "from UQpy.run_model.model_execution.ThirdPartyModel import ThirdPartyModel\n",
    "from UQpy.sensitivity.SobolSensitivity import SobolSensitivity\n",
    "from UQpy.distributions import Normal\n",
    "from UQpy.distributions.collection.JointIndependent import JointIndependent"
   ]
  },
  {
   "cell_type": "code",
   "execution_count": 2,
   "metadata": {},
   "outputs": [],
   "source": [
    "samples= [[np.array(0.6).reshape((-1,))], [np.array(0.8).reshape((-1,))]]"
   ]
  },
  {
   "cell_type": "code",
   "execution_count": 3,
   "metadata": {},
   "outputs": [
    {
     "data": {
      "text/plain": [
       "1"
      ]
     },
     "execution_count": 3,
     "metadata": {},
     "output_type": "execute_result"
    }
   ],
   "source": [
    "len(samples[0])"
   ]
  },
  {
   "cell_type": "code",
   "execution_count": 4,
   "metadata": {},
   "outputs": [],
   "source": [
    "m = ThirdPartyModel(model_script ='dyna_script.py',\n",
    "                    input_template= \"run.k\",\n",
    "                    output_script='dyna_output.py',\n",
    "                    output_object_name='read_output',\n",
    "                    var_names=['a'], \n",
    "                    delete_files=False,\n",
    "                    model_dir='dyna_test',\n",
    "                    fmt='{:>10.2f}')"
   ]
  },
  {
   "cell_type": "code",
   "execution_count": 5,
   "metadata": {},
   "outputs": [],
   "source": [
    "model = RunModel(model = m)"
   ]
  },
  {
   "cell_type": "code",
   "execution_count": 6,
   "metadata": {},
   "outputs": [
    {
     "ename": "FileExistsError",
     "evalue": "[WinError 183] Cannot create a file when that file already exists: 'c:\\\\Users\\\\chiarar\\\\OneDrive - Chalmers\\\\Chalmers\\\\Sensitivity-Analisys\\\\my_example\\\\dyna_test_2023_03_08_01_14_391848\\\\run_0'",
     "output_type": "error",
     "traceback": [
      "\u001b[1;31m---------------------------------------------------------------------------\u001b[0m",
      "\u001b[1;31mFileExistsError\u001b[0m                           Traceback (most recent call last)",
      "Cell \u001b[1;32mIn[6], line 3\u001b[0m\n\u001b[0;32m      1\u001b[0m dist_object \u001b[39m=\u001b[39m JointIndependent([Normal(\u001b[39m0\u001b[39m, \u001b[39m1\u001b[39m)])\n\u001b[0;32m      2\u001b[0m SA_sobol \u001b[39m=\u001b[39m SobolSensitivity(model, dist_object)\n\u001b[1;32m----> 3\u001b[0m SA_sobol\u001b[39m.\u001b[39;49mrun(n_samples\u001b[39m=\u001b[39;49m\u001b[39m2\u001b[39;49m)\n",
      "File \u001b[1;32m<string>:154\u001b[0m, in \u001b[0;36mrun\u001b[1;34m(__beartype_func, __beartype_raise_exception, __beartype_object_1838847238944, __beartype_object_1838847239232, *args, **kwargs)\u001b[0m\n",
      "File \u001b[1;32mc:\\Users\\chiarar\\Anaconda3\\envs\\uqpy-new\\lib\\site-packages\\UQpy\\sensitivity\\SobolSensitivity.py:201\u001b[0m, in \u001b[0;36mSobolSensitivity.run\u001b[1;34m(self, n_samples, n_bootstrap_samples, confidence_level, estimate_second_order, first_order_scheme, total_order_scheme, second_order_scheme)\u001b[0m\n\u001b[0;32m    197\u001b[0m A_model_evals \u001b[39m=\u001b[39m \u001b[39mself\u001b[39m\u001b[39m.\u001b[39m_run_model(A_samples)  \u001b[39m# shape: (n_samples, n_outputs)\u001b[39;00m\n\u001b[0;32m    199\u001b[0m \u001b[39mself\u001b[39m\u001b[39m.\u001b[39mlogger\u001b[39m.\u001b[39minfo(\u001b[39m\"\u001b[39m\u001b[39mUQpy: Model evaluations A completed.\u001b[39m\u001b[39m\"\u001b[39m)\n\u001b[1;32m--> 201\u001b[0m B_model_evals \u001b[39m=\u001b[39m \u001b[39mself\u001b[39;49m\u001b[39m.\u001b[39;49m_run_model(B_samples)  \u001b[39m# shape: (n_samples, n_outputs)\u001b[39;00m\n\u001b[0;32m    203\u001b[0m \u001b[39mself\u001b[39m\u001b[39m.\u001b[39mlogger\u001b[39m.\u001b[39minfo(\u001b[39m\"\u001b[39m\u001b[39mUQpy: Model evaluations B completed.\u001b[39m\u001b[39m\"\u001b[39m)\n\u001b[0;32m    205\u001b[0m \u001b[39m# Check the number of outputs of the model\u001b[39;00m\n",
      "File \u001b[1;32m<string>:45\u001b[0m, in \u001b[0;36m_run_model\u001b[1;34m(__beartype_func, __beartype_raise_exception, __beartype_object_1838847239808, __beartype_object_1838847240096, __beartype_object_140710024372752, *args, **kwargs)\u001b[0m\n",
      "File \u001b[1;32mc:\\Users\\chiarar\\Anaconda3\\envs\\uqpy-new\\lib\\site-packages\\UQpy\\sensitivity\\baseclass\\Sensitivity.py:65\u001b[0m, in \u001b[0;36mSensitivity._run_model\u001b[1;34m(self, samples)\u001b[0m\n\u001b[0;32m     45\u001b[0m \u001b[39m@beartype\u001b[39m\n\u001b[0;32m     46\u001b[0m \u001b[39mdef\u001b[39;00m \u001b[39m_run_model\u001b[39m(\u001b[39mself\u001b[39m, samples: Union[NumpyFloatArray, NumpyIntArray]):\n\u001b[0;32m     47\u001b[0m     \u001b[39m\"\"\"Generate model evaluations for a set of samples.\u001b[39;00m\n\u001b[0;32m     48\u001b[0m \n\u001b[0;32m     49\u001b[0m \u001b[39m    **Inputs**:\u001b[39;00m\n\u001b[1;32m   (...)\u001b[0m\n\u001b[0;32m     62\u001b[0m \n\u001b[0;32m     63\u001b[0m \u001b[39m    \"\"\"\u001b[39;00m\n\u001b[1;32m---> 65\u001b[0m     \u001b[39mself\u001b[39;49m\u001b[39m.\u001b[39;49mrunmodel_object\u001b[39m.\u001b[39;49mrun(samples\u001b[39m=\u001b[39;49msamples, append_samples\u001b[39m=\u001b[39;49m\u001b[39mFalse\u001b[39;49;00m)\n\u001b[0;32m     66\u001b[0m     model_evals \u001b[39m=\u001b[39m copy\u001b[39m.\u001b[39mdeepcopy(np\u001b[39m.\u001b[39marray(\u001b[39mself\u001b[39m\u001b[39m.\u001b[39mrunmodel_object\u001b[39m.\u001b[39mqoi_list))\n\u001b[0;32m     68\u001b[0m     \u001b[39mreturn\u001b[39;00m model_evals\n",
      "File \u001b[1;32mc:\\Users\\chiarar\\Anaconda3\\envs\\uqpy-new\\lib\\site-packages\\UQpy\\run_model\\RunModel.py:182\u001b[0m, in \u001b[0;36mRunModel.run\u001b[1;34m(self, samples, append_samples)\u001b[0m\n\u001b[0;32m    178\u001b[0m     \u001b[39mself\u001b[39m\u001b[39m.\u001b[39msamples \u001b[39m=\u001b[39m np\u001b[39m.\u001b[39mvstack((\u001b[39mself\u001b[39m\u001b[39m.\u001b[39msamples, samples))\n\u001b[0;32m    180\u001b[0m \u001b[39mself\u001b[39m\u001b[39m.\u001b[39mmodel\u001b[39m.\u001b[39minitialize(samples)\n\u001b[1;32m--> 182\u001b[0m \u001b[39mself\u001b[39m\u001b[39m.\u001b[39mqoi_list\u001b[39m.\u001b[39mextend(\u001b[39mself\u001b[39;49m\u001b[39m.\u001b[39;49mserial_execution() \u001b[39mif\u001b[39;00m \u001b[39mself\u001b[39m\u001b[39m.\u001b[39mis_serial \u001b[39melse\u001b[39;00m \u001b[39mself\u001b[39m\u001b[39m.\u001b[39mparallel_execution())\n\u001b[0;32m    184\u001b[0m \u001b[39mself\u001b[39m\u001b[39m.\u001b[39mmodel\u001b[39m.\u001b[39mfinalize()\n",
      "File \u001b[1;32mc:\\Users\\chiarar\\Anaconda3\\envs\\uqpy-new\\lib\\site-packages\\UQpy\\run_model\\RunModel.py:208\u001b[0m, in \u001b[0;36mRunModel.serial_execution\u001b[1;34m(self)\u001b[0m\n\u001b[0;32m    206\u001b[0m results \u001b[39m=\u001b[39m []\n\u001b[0;32m    207\u001b[0m \u001b[39mfor\u001b[39;00m i \u001b[39min\u001b[39;00m \u001b[39mrange\u001b[39m(\u001b[39mself\u001b[39m\u001b[39m.\u001b[39mn_existing_simulations, \u001b[39mself\u001b[39m\u001b[39m.\u001b[39mn_existing_simulations \u001b[39m+\u001b[39m \u001b[39mself\u001b[39m\u001b[39m.\u001b[39mn_new_simulations):\n\u001b[1;32m--> 208\u001b[0m     sample \u001b[39m=\u001b[39m \u001b[39mself\u001b[39;49m\u001b[39m.\u001b[39;49mmodel\u001b[39m.\u001b[39;49mpreprocess_single_sample(i, \u001b[39mself\u001b[39;49m\u001b[39m.\u001b[39;49msamples[i])\n\u001b[0;32m    210\u001b[0m     execution_output \u001b[39m=\u001b[39m \u001b[39mself\u001b[39m\u001b[39m.\u001b[39mmodel\u001b[39m.\u001b[39mexecute_single_sample(i, sample)\n\u001b[0;32m    212\u001b[0m     results\u001b[39m.\u001b[39mappend(\u001b[39mself\u001b[39m\u001b[39m.\u001b[39mmodel\u001b[39m.\u001b[39mpostprocess_single_file(i, execution_output))\n",
      "File \u001b[1;32mc:\\Users\\chiarar\\Anaconda3\\envs\\uqpy-new\\lib\\site-packages\\UQpy\\run_model\\model_execution\\ThirdPartyModel.py:213\u001b[0m, in \u001b[0;36mThirdPartyModel.preprocess_single_sample\u001b[1;34m(self, i, sample)\u001b[0m\n\u001b[0;32m    211\u001b[0m \u001b[39mdef\u001b[39;00m \u001b[39mpreprocess_single_sample\u001b[39m(\u001b[39mself\u001b[39m, i, sample):\n\u001b[0;32m    212\u001b[0m     work_dir \u001b[39m=\u001b[39m os\u001b[39m.\u001b[39mpath\u001b[39m.\u001b[39mjoin(\u001b[39mself\u001b[39m\u001b[39m.\u001b[39mmodel_dir, \u001b[39m\"\u001b[39m\u001b[39mrun_\u001b[39m\u001b[39m\"\u001b[39m \u001b[39m+\u001b[39m \u001b[39mstr\u001b[39m(i))\n\u001b[1;32m--> 213\u001b[0m     \u001b[39mself\u001b[39;49m\u001b[39m.\u001b[39;49m_copy_files(work_dir\u001b[39m=\u001b[39;49mwork_dir)\n\u001b[0;32m    215\u001b[0m     \u001b[39m# Change current working directory to model run directory\u001b[39;00m\n\u001b[0;32m    216\u001b[0m     os\u001b[39m.\u001b[39mchdir(work_dir)\n",
      "File \u001b[1;32mc:\\Users\\chiarar\\Anaconda3\\envs\\uqpy-new\\lib\\site-packages\\UQpy\\run_model\\model_execution\\ThirdPartyModel.py:354\u001b[0m, in \u001b[0;36mThirdPartyModel._copy_files\u001b[1;34m(self, work_dir)\u001b[0m\n\u001b[0;32m    353\u001b[0m \u001b[39mdef\u001b[39;00m \u001b[39m_copy_files\u001b[39m(\u001b[39mself\u001b[39m, work_dir):\n\u001b[1;32m--> 354\u001b[0m     os\u001b[39m.\u001b[39;49mmakedirs(work_dir)\n\u001b[0;32m    356\u001b[0m     \u001b[39m# Copy files from the model list to model run directory\u001b[39;00m\n\u001b[0;32m    357\u001b[0m     \u001b[39mfor\u001b[39;00m file_name \u001b[39min\u001b[39;00m \u001b[39mself\u001b[39m\u001b[39m.\u001b[39mmodel_files:\n",
      "File \u001b[1;32mc:\\Users\\chiarar\\Anaconda3\\envs\\uqpy-new\\lib\\os.py:225\u001b[0m, in \u001b[0;36mmakedirs\u001b[1;34m(name, mode, exist_ok)\u001b[0m\n\u001b[0;32m    223\u001b[0m         \u001b[39mreturn\u001b[39;00m\n\u001b[0;32m    224\u001b[0m \u001b[39mtry\u001b[39;00m:\n\u001b[1;32m--> 225\u001b[0m     mkdir(name, mode)\n\u001b[0;32m    226\u001b[0m \u001b[39mexcept\u001b[39;00m \u001b[39mOSError\u001b[39;00m:\n\u001b[0;32m    227\u001b[0m     \u001b[39m# Cannot rely on checking for EEXIST, since the operating system\u001b[39;00m\n\u001b[0;32m    228\u001b[0m     \u001b[39m# could give priority to other errors like EACCES or EROFS\u001b[39;00m\n\u001b[0;32m    229\u001b[0m     \u001b[39mif\u001b[39;00m \u001b[39mnot\u001b[39;00m exist_ok \u001b[39mor\u001b[39;00m \u001b[39mnot\u001b[39;00m path\u001b[39m.\u001b[39misdir(name):\n",
      "\u001b[1;31mFileExistsError\u001b[0m: [WinError 183] Cannot create a file when that file already exists: 'c:\\\\Users\\\\chiarar\\\\OneDrive - Chalmers\\\\Chalmers\\\\Sensitivity-Analisys\\\\my_example\\\\dyna_test_2023_03_08_01_14_391848\\\\run_0'"
     ]
    }
   ],
   "source": [
    "dist_object = JointIndependent([Normal(0, 1)])\n",
    "SA_sobol = SobolSensitivity(model, dist_object)\n",
    "SA_sobol.run(n_samples=2)"
   ]
  },
  {
   "cell_type": "code",
   "execution_count": null,
   "metadata": {},
   "outputs": [],
   "source": []
  }
 ],
 "metadata": {
  "kernelspec": {
   "display_name": "uqpy-new",
   "language": "python",
   "name": "python3"
  },
  "language_info": {
   "codemirror_mode": {
    "name": "ipython",
    "version": 3
   },
   "file_extension": ".py",
   "mimetype": "text/x-python",
   "name": "python",
   "nbconvert_exporter": "python",
   "pygments_lexer": "ipython3",
   "version": "3.10.9"
  },
  "vscode": {
   "interpreter": {
    "hash": "37160a3ff522941ae820510067bfdf5af4aef4bab8256948315fed88bf2bc91a"
   }
  }
 },
 "nbformat": 4,
 "nbformat_minor": 1
}
